{
 "cells": [
  {
   "cell_type": "code",
   "execution_count": 7,
   "metadata": {},
   "outputs": [],
   "source": [
    "import json\n",
    "import random\n",
    "import os\n",
    "from datetime import datetime\n",
    "\n",
    "# Define consonants and vowels\n",
    "consonants = 'БВГДЃЖЗЈКЛМНПРСТФХЦЧШ'  # example consonants\n",
    "vowels = 'АЕИОУ'  # example vowels\n",
    "\n",
    "def shuffle(array):\n",
    "    shuffled = list(array)\n",
    "    random.shuffle(shuffled)\n",
    "    return shuffled\n",
    "\n",
    "def generate_letters():\n",
    "    random_consonants = shuffle(consonants)\n",
    "    random_vowels = shuffle(vowels)\n",
    "    letters = []\n",
    "    for i in range(4):\n",
    "        row = random_consonants[4 * i:4 * i + 2]\n",
    "        row.append(random_vowels[i])\n",
    "        letters.append(row)\n",
    "    return letters\n",
    "\n",
    "def save_combinations():\n",
    "    combinations = []\n",
    "    for _ in range(400):  # Generate 30 different combinations\n",
    "        combinations.append(generate_letters())\n",
    "    output_dir = 'output'\n",
    "    os.makedirs(output_dir, exist_ok=True)\n",
    "    with open(os.path.join(output_dir, 'combinations.json'), 'w', encoding='utf-8') as file:\n",
    "        json.dump(combinations, file, ensure_ascii=False, indent=2)\n",
    "\n",
    "if __name__ == \"__main__\":\n",
    "    save_combinations()\n"
   ]
  }
 ],
 "metadata": {
  "kernelspec": {
   "display_name": "Python 3",
   "language": "python",
   "name": "python3"
  },
  "language_info": {
   "codemirror_mode": {
    "name": "ipython",
    "version": 3
   },
   "file_extension": ".py",
   "mimetype": "text/x-python",
   "name": "python",
   "nbconvert_exporter": "python",
   "pygments_lexer": "ipython3",
   "version": "3.12.1"
  }
 },
 "nbformat": 4,
 "nbformat_minor": 2
}
